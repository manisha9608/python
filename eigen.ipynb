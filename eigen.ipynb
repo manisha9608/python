{
 "cells": [
  {
   "cell_type": "markdown",
   "metadata": {},
   "source": [
    "# Eigen value & SVD"
   ]
  },
  {
   "cell_type": "code",
   "execution_count": 1,
   "metadata": {},
   "outputs": [],
   "source": [
    "import numpy as np;\n",
    "A = np.array([[3,2,2],[2,3,2]])"
   ]
  },
  {
   "cell_type": "code",
   "execution_count": 2,
   "metadata": {},
   "outputs": [
    {
     "data": {
      "text/plain": [
       "array([[3, 2, 2],\n",
       "       [2, 3, 2]])"
      ]
     },
     "execution_count": 2,
     "metadata": {},
     "output_type": "execute_result"
    }
   ],
   "source": [
    "A"
   ]
  },
  {
   "cell_type": "code",
   "execution_count": 3,
   "metadata": {},
   "outputs": [
    {
     "data": {
      "text/plain": [
       "array([[3, 2],\n",
       "       [2, 3],\n",
       "       [2, 2]])"
      ]
     },
     "execution_count": 3,
     "metadata": {},
     "output_type": "execute_result"
    }
   ],
   "source": [
    "B = np.transpose(A)\n",
    "B"
   ]
  },
  {
   "cell_type": "code",
   "execution_count": 4,
   "metadata": {},
   "outputs": [
    {
     "data": {
      "text/plain": [
       "array([[13, 12, 10],\n",
       "       [12, 13, 10],\n",
       "       [10, 10,  8]])"
      ]
     },
     "execution_count": 4,
     "metadata": {},
     "output_type": "execute_result"
    }
   ],
   "source": [
    "C = np.dot(B,A)\n",
    "C"
   ]
  },
  {
   "cell_type": "code",
   "execution_count": 5,
   "metadata": {},
   "outputs": [
    {
     "data": {
      "text/plain": [
       "(array([3.30000000e+01, 1.00000000e+00, 1.01084336e-16]),\n",
       " array([[-6.15457455e-01, -7.07106781e-01, -3.48155312e-01],\n",
       "        [-6.15457455e-01,  7.07106781e-01, -3.48155312e-01],\n",
       "        [-4.92365964e-01,  9.09032207e-16,  8.70388280e-01]]))"
      ]
     },
     "execution_count": 5,
     "metadata": {},
     "output_type": "execute_result"
    }
   ],
   "source": [
    "l = np.linalg.eig(C)\n",
    "l"
   ]
  },
  {
   "cell_type": "code",
   "execution_count": 6,
   "metadata": {},
   "outputs": [
    {
     "data": {
      "text/plain": [
       "(array([[-6.15457455e-01,  7.07106781e-01, -3.48155312e-01],\n",
       "        [-6.15457455e-01, -7.07106781e-01, -3.48155312e-01],\n",
       "        [-4.92365964e-01,  1.31965976e-15,  8.70388280e-01]]),\n",
       " array([3.30000000e+01, 1.00000000e+00, 1.63797695e-15]),\n",
       " array([[-6.15457455e-01, -6.15457455e-01, -4.92365964e-01],\n",
       "        [ 7.07106781e-01, -7.07106781e-01,  2.57169186e-15],\n",
       "        [ 3.48155312e-01,  3.48155312e-01, -8.70388280e-01]]))"
      ]
     },
     "execution_count": 6,
     "metadata": {},
     "output_type": "execute_result"
    }
   ],
   "source": [
    "SVD = np.linalg.svd(C)\n",
    "SVD"
   ]
  },
  {
   "cell_type": "code",
   "execution_count": 7,
   "metadata": {},
   "outputs": [
    {
     "data": {
      "text/plain": [
       "(array([[-0.70710678, -0.70710678],\n",
       "        [-0.70710678,  0.70710678]]),\n",
       " array([5.74456265, 1.        ]),\n",
       " array([[-6.15457455e-01, -6.15457455e-01, -4.92365964e-01],\n",
       "        [-7.07106781e-01,  7.07106781e-01, -1.38777878e-17],\n",
       "        [-3.48155312e-01, -3.48155312e-01,  8.70388280e-01]]))"
      ]
     },
     "execution_count": 7,
     "metadata": {},
     "output_type": "execute_result"
    }
   ],
   "source": [
    "SVD2 = np.linalg.svd(A)\n",
    "SVD2"
   ]
  },
  {
   "cell_type": "code",
   "execution_count": null,
   "metadata": {},
   "outputs": [],
   "source": []
  }
 ],
 "metadata": {
  "kernelspec": {
   "display_name": "Python 3",
   "language": "python",
   "name": "python3"
  },
  "language_info": {
   "codemirror_mode": {
    "name": "ipython",
    "version": 3
   },
   "file_extension": ".py",
   "mimetype": "text/x-python",
   "name": "python",
   "nbconvert_exporter": "python",
   "pygments_lexer": "ipython3",
   "version": "3.7.6"
  }
 },
 "nbformat": 4,
 "nbformat_minor": 4
}
